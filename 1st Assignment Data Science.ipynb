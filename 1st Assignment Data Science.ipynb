{
 "cells": [
  {
   "cell_type": "code",
   "execution_count": 1,
   "id": "786c0dbe",
   "metadata": {},
   "outputs": [
    {
     "name": "stdout",
     "output_type": "stream",
     "text": [
      "Twinkle, twinkle, little star,\n",
      "          How I wonder what you are!                       \n",
      "                Up above the world so high,                     \n",
      "                Like a diamond in the sky.\n",
      "Twinkle, twinkle, little star,\n",
      "          How I wonder what you are\n"
     ]
    }
   ],
   "source": [
    "# Q. Write a python programto print the following string in a specific format(see the otput).\n",
    "# Twinkle, twinkle, little star,\n",
    "#           How I wonder what you are!\n",
    "#                   up above the world so high\n",
    "#                         like a diamond in the sky\n",
    "\n",
    "print (\"\"\"Twinkle, twinkle, little star,\n",
    "          How I wonder what you are!                       \n",
    "                Up above the world so high,                     \n",
    "                Like a diamond in the sky.\n",
    "Twinkle, twinkle, little star,\n",
    "          How I wonder what you are\"\"\")\n"
   ]
  },
  {
   "cell_type": "code",
   "execution_count": 2,
   "id": "5e179ecb",
   "metadata": {},
   "outputs": [
    {
     "name": "stdout",
     "output_type": "stream",
     "text": [
      "The current version you Python you are using is 3.8.8\n"
     ]
    }
   ],
   "source": [
    "# Write a python program to get the python version you're using.\n",
    "import platform\n",
    "print(\"The current version you Python you are using is\",platform.python_version())\n"
   ]
  },
  {
   "cell_type": "code",
   "execution_count": 3,
   "id": "1e74a80b",
   "metadata": {},
   "outputs": [
    {
     "name": "stdout",
     "output_type": "stream",
     "text": [
      "Current date and time : \n",
      "2021-12-29 20:51:49\n"
     ]
    }
   ],
   "source": [
    "# Write a python program to display the current date and time.\n",
    "import datetime\n",
    "now = datetime.datetime.now()\n",
    "print (\"Current date and time : \")\n",
    "print (now.strftime(\"%Y-%m-%d %H:%M:%S\"))\n"
   ]
  },
  {
   "cell_type": "code",
   "execution_count": 4,
   "id": "ed1db47e",
   "metadata": {},
   "outputs": [
    {
     "name": "stdout",
     "output_type": "stream",
     "text": [
      "Enter the radius of the Circle: 8\n",
      "Area of the Circle is : 201.09\n"
     ]
    }
   ],
   "source": [
    "# Write a python program which accepts the radius of a circle from the user and compute the area.\n",
    "pi= 3.142\n",
    "radius= float(input(\"Enter the radius of the Circle: \"))\n",
    "Area_Of_Circle= float(pi*(radius**2))\n",
    "\n",
    "\n",
    "print(\"Area of the Circle is : %.2f\" %Area_Of_Circle)\n"
   ]
  },
  {
   "cell_type": "code",
   "execution_count": 5,
   "id": "a041b9bc",
   "metadata": {},
   "outputs": [
    {
     "name": "stdout",
     "output_type": "stream",
     "text": [
      ".......Program of Reverse string........\n",
      "Enter your First Name: Hira\n",
      "Enter your Last Name: Mushtaq\n",
      "Your Reverse Sting is : Mushtaq Hira\n"
     ]
    }
   ],
   "source": [
    "# Write a python program which accepts the user's first and last name and print them in reverse order with a space between them.\n",
    "print(\".......Program of Reverse string........\")\n",
    "First_Name=input(\"Enter your First Name: \")\n",
    "Last_Name= input(\"Enter your Last Name: \")\n",
    "print(\"Your Reverse Sting is : \"+ Last_Name + \" \" + First_Name)\n"
   ]
  },
  {
   "cell_type": "code",
   "execution_count": 6,
   "id": "7a7c41ba",
   "metadata": {},
   "outputs": [
    {
     "name": "stdout",
     "output_type": "stream",
     "text": [
      ".....Program of Addition.......\n",
      "Enter First Number: 12\n",
      "Enter Second Number: 21\n",
      "Addition of these two numbers are:  33\n"
     ]
    }
   ],
   "source": [
    "# Write a python program which takes two input from user and print them addition.\n",
    "print(\".....Program of Addition.......\")\n",
    "First_No= int(input(\"Enter First Number: \"))\n",
    "Second_No=int(input(\"Enter Second Number: \"))\n",
    "Addition= First_No+Second_No\n",
    "print(\"Addition of these two numbers are: \" ,Addition)\n"
   ]
  },
  {
   "cell_type": "code",
   "execution_count": null,
   "id": "78605306",
   "metadata": {},
   "outputs": [],
   "source": []
  }
 ],
 "metadata": {
  "kernelspec": {
   "display_name": "Python 3",
   "language": "python",
   "name": "python3"
  },
  "language_info": {
   "codemirror_mode": {
    "name": "ipython",
    "version": 3
   },
   "file_extension": ".py",
   "mimetype": "text/x-python",
   "name": "python",
   "nbconvert_exporter": "python",
   "pygments_lexer": "ipython3",
   "version": "3.8.8"
  }
 },
 "nbformat": 4,
 "nbformat_minor": 5
}
